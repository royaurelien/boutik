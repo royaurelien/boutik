{
 "cells": [
  {
   "cell_type": "code",
   "execution_count": null,
   "metadata": {},
   "outputs": [],
   "source": [
    "r = env['product.template'].search([])\n",
    "p = r[-1]\n",
    "print(p.is_product_variant)\n",
    "print(p.product_variant_count)\n",
    "print(p.lst_price)\n",
    "print(p.list_price)\n",
    "p.attribute_line_ids\n",
    "p.product_variant_ids.mapped(\"lst_price\")\n",
    "p.product_variant_ids.mapped(\"extra_price\")"
   ]
  },
  {
   "cell_type": "code",
   "execution_count": null,
   "metadata": {},
   "outputs": [],
   "source": [
    "r = env['product.template'].search([])\n",
    "p = max(r)\n",
    "print(p.is_product_variant)\n",
    "print(p.product_variant_count)\n",
    "p.attribute_line_ids\n",
    "\n",
    "print(p.name)\n",
    "p.product_variant_ids.is_product_variant"
   ]
  },
  {
   "cell_type": "code",
   "execution_count": 5,
   "metadata": {},
   "outputs": [
    {
     "data": {
      "text/plain": [
       "True"
      ]
     },
     "execution_count": 5,
     "metadata": {},
     "output_type": "execute_result"
    }
   ],
   "source": [
    "from odoo.tools import float_compare\n",
    "float_compare(11.23, 10.24, precision_digits=0.001)\n",
    "\n",
    "True if -0.1 < 0.0 else False"
   ]
  },
  {
   "cell_type": "code",
   "execution_count": null,
   "metadata": {},
   "outputs": [],
   "source": []
  },
  {
   "cell_type": "code",
   "execution_count": null,
   "metadata": {},
   "outputs": [],
   "source": []
  }
 ],
 "metadata": {
  "kernelspec": {
   "display_name": "Odoo-shell",
   "language": "",
   "name": "odoo"
  },
  "language_info": {
   "codemirror_mode": {
    "name": "ipython",
    "version": 3
   },
   "file_extension": ".py",
   "mimetype": "text/x-python",
   "name": "python",
   "nbconvert_exporter": "python",
   "pygments_lexer": "ipython3",
   "version": "3.6.9"
  }
 },
 "nbformat": 4,
 "nbformat_minor": 4
}
